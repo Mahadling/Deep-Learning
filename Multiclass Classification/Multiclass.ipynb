{
 "cells": [
  {
   "cell_type": "markdown",
   "metadata": {},
   "source": [
    "# Multiclass Classification"
   ]
  },
  {
   "cell_type": "code",
   "execution_count": null,
   "metadata": {},
   "outputs": [],
   "source": [
    "from warnings import filterwarnings\n",
    "filterwarnings('ignore')"
   ]
  },
  {
   "cell_type": "markdown",
   "metadata": {},
   "source": [
    "### Create a multiclass dataset"
   ]
  },
  {
   "cell_type": "code",
   "execution_count": 1,
   "metadata": {},
   "outputs": [],
   "source": [
    "from sklearn.datasets import make_classification\n",
    "n = 4\n",
    "X, Y = make_classification(n_samples=8000, n_features=30, n_informative=15, n_classes=n, random_state=42 )"
   ]
  },
  {
   "cell_type": "code",
   "execution_count": 2,
   "metadata": {},
   "outputs": [
    {
     "data": {
      "text/plain": [
       "array([[ 1.18989763,  1.07519621,  1.9712155 , -2.78502226,  0.15851885,\n",
       "         0.10576963, -1.92585519, -0.98914574,  0.89771514,  2.61154639,\n",
       "         0.40356706, -2.38658943, -1.41711657,  2.69842988,  4.51088613,\n",
       "        -1.03084425, -2.23409045,  0.05608878, -0.70583655,  0.54856488,\n",
       "        -0.1350877 ,  0.63001972, -2.4405616 , -3.72083607,  0.51809059,\n",
       "        -0.88265064,  0.97481641, -1.47025468,  0.06397232, -0.51422152],\n",
       "       [ 0.65042513,  0.48024195,  2.24436989,  0.91582403,  4.32433842,\n",
       "         0.80864579, -1.51338839,  0.73204491, -0.48853024, -1.11047179,\n",
       "        -0.57394658, -0.06773579,  1.60386036,  2.25873392, -4.60009364,\n",
       "        -0.33822724,  0.1552555 ,  1.15004811,  0.3677702 , -1.34213584,\n",
       "        -0.42012914,  2.69022457,  5.81684911, -1.53294049,  0.87006735,\n",
       "        -1.72364277, -1.06324656, -0.71016267,  1.24918837, -0.44310873],\n",
       "       [ 0.01300429,  0.19766843,  4.28019934, -1.69922259,  1.95333671,\n",
       "         1.80821602, -0.83458112, -0.28264228,  0.87222117, -2.56072082,\n",
       "         1.74103791, -0.11048853,  1.35063632, -1.79192134, -3.63939156,\n",
       "        -0.55830529, -0.86010151,  1.69432578,  0.16080874, -1.18908242,\n",
       "        -2.99243752,  1.05142475, -3.2447223 , -4.59035457,  0.50882856,\n",
       "         0.35670289, -1.94492981,  2.14879288,  0.03475455,  0.67183154]])"
      ]
     },
     "execution_count": 2,
     "metadata": {},
     "output_type": "execute_result"
    }
   ],
   "source": [
    "X[0:3]"
   ]
  },
  {
   "cell_type": "code",
   "execution_count": 3,
   "metadata": {},
   "outputs": [
    {
     "data": {
      "text/plain": [
       "array([3, 3, 2, 2, 3])"
      ]
     },
     "execution_count": 3,
     "metadata": {},
     "output_type": "execute_result"
    }
   ],
   "source": [
    "Y[0:5]"
   ]
  },
  {
   "cell_type": "code",
   "execution_count": 4,
   "metadata": {},
   "outputs": [
    {
     "data": {
      "text/plain": [
       "array([0, 1, 2, 3])"
      ]
     },
     "execution_count": 4,
     "metadata": {},
     "output_type": "execute_result"
    }
   ],
   "source": [
    "import numpy as np \n",
    "np.unique(Y)"
   ]
  },
  {
   "cell_type": "markdown",
   "metadata": {},
   "source": [
    "### Convert X and Y in Dataframe format"
   ]
  },
  {
   "cell_type": "code",
   "execution_count": 5,
   "metadata": {},
   "outputs": [
    {
     "data": {
      "text/plain": [
       "['x1',\n",
       " 'x2',\n",
       " 'x3',\n",
       " 'x4',\n",
       " 'x5',\n",
       " 'x6',\n",
       " 'x7',\n",
       " 'x8',\n",
       " 'x9',\n",
       " 'x10',\n",
       " 'x11',\n",
       " 'x12',\n",
       " 'x13',\n",
       " 'x14',\n",
       " 'x15',\n",
       " 'x16',\n",
       " 'x17',\n",
       " 'x18',\n",
       " 'x19',\n",
       " 'x20',\n",
       " 'x21',\n",
       " 'x22',\n",
       " 'x23',\n",
       " 'x24',\n",
       " 'x25',\n",
       " 'x26',\n",
       " 'x27',\n",
       " 'x28',\n",
       " 'x29',\n",
       " 'x30']"
      ]
     },
     "execution_count": 5,
     "metadata": {},
     "output_type": "execute_result"
    }
   ],
   "source": [
    "cols = [f'x{i+1}' for i in range(30)]\n",
    "cols"
   ]
  },
  {
   "cell_type": "code",
   "execution_count": 6,
   "metadata": {},
   "outputs": [],
   "source": [
    "import pandas as pd \n",
    "X = pd.DataFrame(X, columns=cols)\n",
    "Y = pd.DataFrame(Y, columns=['target'])"
   ]
  },
  {
   "cell_type": "code",
   "execution_count": 7,
   "metadata": {},
   "outputs": [
    {
     "data": {
      "text/html": [
       "<div>\n",
       "<style scoped>\n",
       "    .dataframe tbody tr th:only-of-type {\n",
       "        vertical-align: middle;\n",
       "    }\n",
       "\n",
       "    .dataframe tbody tr th {\n",
       "        vertical-align: top;\n",
       "    }\n",
       "\n",
       "    .dataframe thead th {\n",
       "        text-align: right;\n",
       "    }\n",
       "</style>\n",
       "<table border=\"1\" class=\"dataframe\">\n",
       "  <thead>\n",
       "    <tr style=\"text-align: right;\">\n",
       "      <th></th>\n",
       "      <th>x1</th>\n",
       "      <th>x2</th>\n",
       "      <th>x3</th>\n",
       "      <th>x4</th>\n",
       "      <th>x5</th>\n",
       "      <th>x6</th>\n",
       "      <th>x7</th>\n",
       "      <th>x8</th>\n",
       "      <th>x9</th>\n",
       "      <th>x10</th>\n",
       "      <th>...</th>\n",
       "      <th>x21</th>\n",
       "      <th>x22</th>\n",
       "      <th>x23</th>\n",
       "      <th>x24</th>\n",
       "      <th>x25</th>\n",
       "      <th>x26</th>\n",
       "      <th>x27</th>\n",
       "      <th>x28</th>\n",
       "      <th>x29</th>\n",
       "      <th>x30</th>\n",
       "    </tr>\n",
       "  </thead>\n",
       "  <tbody>\n",
       "    <tr>\n",
       "      <th>0</th>\n",
       "      <td>1.189898</td>\n",
       "      <td>1.075196</td>\n",
       "      <td>1.971215</td>\n",
       "      <td>-2.785022</td>\n",
       "      <td>0.158519</td>\n",
       "      <td>0.105770</td>\n",
       "      <td>-1.925855</td>\n",
       "      <td>-0.989146</td>\n",
       "      <td>0.897715</td>\n",
       "      <td>2.611546</td>\n",
       "      <td>...</td>\n",
       "      <td>-0.135088</td>\n",
       "      <td>0.630020</td>\n",
       "      <td>-2.440562</td>\n",
       "      <td>-3.720836</td>\n",
       "      <td>0.518091</td>\n",
       "      <td>-0.882651</td>\n",
       "      <td>0.974816</td>\n",
       "      <td>-1.470255</td>\n",
       "      <td>0.063972</td>\n",
       "      <td>-0.514222</td>\n",
       "    </tr>\n",
       "    <tr>\n",
       "      <th>1</th>\n",
       "      <td>0.650425</td>\n",
       "      <td>0.480242</td>\n",
       "      <td>2.244370</td>\n",
       "      <td>0.915824</td>\n",
       "      <td>4.324338</td>\n",
       "      <td>0.808646</td>\n",
       "      <td>-1.513388</td>\n",
       "      <td>0.732045</td>\n",
       "      <td>-0.488530</td>\n",
       "      <td>-1.110472</td>\n",
       "      <td>...</td>\n",
       "      <td>-0.420129</td>\n",
       "      <td>2.690225</td>\n",
       "      <td>5.816849</td>\n",
       "      <td>-1.532940</td>\n",
       "      <td>0.870067</td>\n",
       "      <td>-1.723643</td>\n",
       "      <td>-1.063247</td>\n",
       "      <td>-0.710163</td>\n",
       "      <td>1.249188</td>\n",
       "      <td>-0.443109</td>\n",
       "    </tr>\n",
       "    <tr>\n",
       "      <th>2</th>\n",
       "      <td>0.013004</td>\n",
       "      <td>0.197668</td>\n",
       "      <td>4.280199</td>\n",
       "      <td>-1.699223</td>\n",
       "      <td>1.953337</td>\n",
       "      <td>1.808216</td>\n",
       "      <td>-0.834581</td>\n",
       "      <td>-0.282642</td>\n",
       "      <td>0.872221</td>\n",
       "      <td>-2.560721</td>\n",
       "      <td>...</td>\n",
       "      <td>-2.992438</td>\n",
       "      <td>1.051425</td>\n",
       "      <td>-3.244722</td>\n",
       "      <td>-4.590355</td>\n",
       "      <td>0.508829</td>\n",
       "      <td>0.356703</td>\n",
       "      <td>-1.944930</td>\n",
       "      <td>2.148793</td>\n",
       "      <td>0.034755</td>\n",
       "      <td>0.671832</td>\n",
       "    </tr>\n",
       "    <tr>\n",
       "      <th>3</th>\n",
       "      <td>0.705489</td>\n",
       "      <td>0.483920</td>\n",
       "      <td>-2.386701</td>\n",
       "      <td>-0.849569</td>\n",
       "      <td>6.364909</td>\n",
       "      <td>-0.350167</td>\n",
       "      <td>3.330057</td>\n",
       "      <td>-3.012621</td>\n",
       "      <td>0.256254</td>\n",
       "      <td>3.597020</td>\n",
       "      <td>...</td>\n",
       "      <td>0.208671</td>\n",
       "      <td>1.268165</td>\n",
       "      <td>9.008501</td>\n",
       "      <td>-2.749453</td>\n",
       "      <td>-0.218515</td>\n",
       "      <td>-1.131341</td>\n",
       "      <td>2.279746</td>\n",
       "      <td>1.053980</td>\n",
       "      <td>0.138332</td>\n",
       "      <td>-1.129947</td>\n",
       "    </tr>\n",
       "    <tr>\n",
       "      <th>4</th>\n",
       "      <td>-0.714800</td>\n",
       "      <td>0.850380</td>\n",
       "      <td>-1.570028</td>\n",
       "      <td>0.146249</td>\n",
       "      <td>-1.199749</td>\n",
       "      <td>1.231657</td>\n",
       "      <td>-0.571366</td>\n",
       "      <td>0.251685</td>\n",
       "      <td>-0.285070</td>\n",
       "      <td>-0.222989</td>\n",
       "      <td>...</td>\n",
       "      <td>-1.497961</td>\n",
       "      <td>-0.812994</td>\n",
       "      <td>1.685803</td>\n",
       "      <td>-1.056207</td>\n",
       "      <td>-1.269361</td>\n",
       "      <td>0.154063</td>\n",
       "      <td>-1.472332</td>\n",
       "      <td>-2.031469</td>\n",
       "      <td>-0.285093</td>\n",
       "      <td>-0.797438</td>\n",
       "    </tr>\n",
       "  </tbody>\n",
       "</table>\n",
       "<p>5 rows × 30 columns</p>\n",
       "</div>"
      ],
      "text/plain": [
       "         x1        x2        x3        x4        x5        x6        x7  \\\n",
       "0  1.189898  1.075196  1.971215 -2.785022  0.158519  0.105770 -1.925855   \n",
       "1  0.650425  0.480242  2.244370  0.915824  4.324338  0.808646 -1.513388   \n",
       "2  0.013004  0.197668  4.280199 -1.699223  1.953337  1.808216 -0.834581   \n",
       "3  0.705489  0.483920 -2.386701 -0.849569  6.364909 -0.350167  3.330057   \n",
       "4 -0.714800  0.850380 -1.570028  0.146249 -1.199749  1.231657 -0.571366   \n",
       "\n",
       "         x8        x9       x10  ...       x21       x22       x23       x24  \\\n",
       "0 -0.989146  0.897715  2.611546  ... -0.135088  0.630020 -2.440562 -3.720836   \n",
       "1  0.732045 -0.488530 -1.110472  ... -0.420129  2.690225  5.816849 -1.532940   \n",
       "2 -0.282642  0.872221 -2.560721  ... -2.992438  1.051425 -3.244722 -4.590355   \n",
       "3 -3.012621  0.256254  3.597020  ...  0.208671  1.268165  9.008501 -2.749453   \n",
       "4  0.251685 -0.285070 -0.222989  ... -1.497961 -0.812994  1.685803 -1.056207   \n",
       "\n",
       "        x25       x26       x27       x28       x29       x30  \n",
       "0  0.518091 -0.882651  0.974816 -1.470255  0.063972 -0.514222  \n",
       "1  0.870067 -1.723643 -1.063247 -0.710163  1.249188 -0.443109  \n",
       "2  0.508829  0.356703 -1.944930  2.148793  0.034755  0.671832  \n",
       "3 -0.218515 -1.131341  2.279746  1.053980  0.138332 -1.129947  \n",
       "4 -1.269361  0.154063 -1.472332 -2.031469 -0.285093 -0.797438  \n",
       "\n",
       "[5 rows x 30 columns]"
      ]
     },
     "execution_count": 7,
     "metadata": {},
     "output_type": "execute_result"
    }
   ],
   "source": [
    "X.head()"
   ]
  },
  {
   "cell_type": "code",
   "execution_count": 8,
   "metadata": {},
   "outputs": [
    {
     "data": {
      "text/html": [
       "<div>\n",
       "<style scoped>\n",
       "    .dataframe tbody tr th:only-of-type {\n",
       "        vertical-align: middle;\n",
       "    }\n",
       "\n",
       "    .dataframe tbody tr th {\n",
       "        vertical-align: top;\n",
       "    }\n",
       "\n",
       "    .dataframe thead th {\n",
       "        text-align: right;\n",
       "    }\n",
       "</style>\n",
       "<table border=\"1\" class=\"dataframe\">\n",
       "  <thead>\n",
       "    <tr style=\"text-align: right;\">\n",
       "      <th></th>\n",
       "      <th>target</th>\n",
       "    </tr>\n",
       "  </thead>\n",
       "  <tbody>\n",
       "    <tr>\n",
       "      <th>0</th>\n",
       "      <td>3</td>\n",
       "    </tr>\n",
       "    <tr>\n",
       "      <th>1</th>\n",
       "      <td>3</td>\n",
       "    </tr>\n",
       "    <tr>\n",
       "      <th>2</th>\n",
       "      <td>2</td>\n",
       "    </tr>\n",
       "    <tr>\n",
       "      <th>3</th>\n",
       "      <td>2</td>\n",
       "    </tr>\n",
       "    <tr>\n",
       "      <th>4</th>\n",
       "      <td>3</td>\n",
       "    </tr>\n",
       "  </tbody>\n",
       "</table>\n",
       "</div>"
      ],
      "text/plain": [
       "   target\n",
       "0       3\n",
       "1       3\n",
       "2       2\n",
       "3       2\n",
       "4       3"
      ]
     },
     "execution_count": 8,
     "metadata": {},
     "output_type": "execute_result"
    }
   ],
   "source": [
    "Y.head()"
   ]
  },
  {
   "cell_type": "code",
   "execution_count": 9,
   "metadata": {},
   "outputs": [
    {
     "data": {
      "text/plain": [
       "target\n",
       "1         2004\n",
       "3         2003\n",
       "2         2000\n",
       "0         1993\n",
       "Name: count, dtype: int64"
      ]
     },
     "execution_count": 9,
     "metadata": {},
     "output_type": "execute_result"
    }
   ],
   "source": [
    "Y.value_counts()"
   ]
  },
  {
   "cell_type": "markdown",
   "metadata": {},
   "source": [
    "### Perform Preprocessing on X"
   ]
  },
  {
   "cell_type": "code",
   "execution_count": 10,
   "metadata": {},
   "outputs": [],
   "source": [
    "from sklearn.pipeline import Pipeline\n",
    "from sklearn.impute import SimpleImputer\n",
    "from sklearn.preprocessing import StandardScaler"
   ]
  },
  {
   "cell_type": "code",
   "execution_count": 12,
   "metadata": {},
   "outputs": [],
   "source": [
    "num_pipe = Pipeline(steps=[('impute', SimpleImputer(strategy='mean')),\n",
    "                           ('scaler', StandardScaler())])"
   ]
  },
  {
   "cell_type": "code",
   "execution_count": 13,
   "metadata": {},
   "outputs": [
    {
     "data": {
      "text/plain": [
       "array([[ 1.17259637e+00,  1.07043883e+00,  6.05723729e-01, ...,\n",
       "        -4.24894019e-01,  6.54500620e-02, -5.05668952e-01],\n",
       "       [ 6.35220093e-01,  4.71223541e-01,  7.17452971e-01, ...,\n",
       "        -9.31363612e-02,  1.25606770e+00, -4.34953707e-01],\n",
       "       [ 2.76093043e-04,  1.86626243e-01,  1.55017500e+00, ...,\n",
       "         1.15471308e+00,  3.60991332e-02,  6.73753630e-01],\n",
       "       ...,\n",
       "       [ 1.06866046e-01,  1.20771035e+00, -7.12005672e-01, ...,\n",
       "        -1.73309368e-01, -2.24978142e-01, -1.55045081e+00],\n",
       "       [-5.61898576e-01,  5.08700675e-02, -2.54143563e-01, ...,\n",
       "         9.85066554e-03, -5.10522234e-01, -1.96819816e-01],\n",
       "       [ 8.33781180e-02, -1.43270878e+00,  7.28596764e-01, ...,\n",
       "        -1.55972516e+00,  1.42878534e+00,  3.30063674e-01]])"
      ]
     },
     "execution_count": 13,
     "metadata": {},
     "output_type": "execute_result"
    }
   ],
   "source": [
    "X_pre= num_pipe.fit_transform(X)\n",
    "X_pre"
   ]
  },
  {
   "cell_type": "code",
   "execution_count": 14,
   "metadata": {},
   "outputs": [
    {
     "data": {
      "text/plain": [
       "array(['x1', 'x2', 'x3', 'x4', 'x5', 'x6', 'x7', 'x8', 'x9', 'x10', 'x11',\n",
       "       'x12', 'x13', 'x14', 'x15', 'x16', 'x17', 'x18', 'x19', 'x20',\n",
       "       'x21', 'x22', 'x23', 'x24', 'x25', 'x26', 'x27', 'x28', 'x29',\n",
       "       'x30'], dtype=object)"
      ]
     },
     "execution_count": 14,
     "metadata": {},
     "output_type": "execute_result"
    }
   ],
   "source": [
    "cols = num_pipe.get_feature_names_out()\n",
    "cols"
   ]
  },
  {
   "cell_type": "code",
   "execution_count": 15,
   "metadata": {},
   "outputs": [
    {
     "data": {
      "text/html": [
       "<div>\n",
       "<style scoped>\n",
       "    .dataframe tbody tr th:only-of-type {\n",
       "        vertical-align: middle;\n",
       "    }\n",
       "\n",
       "    .dataframe tbody tr th {\n",
       "        vertical-align: top;\n",
       "    }\n",
       "\n",
       "    .dataframe thead th {\n",
       "        text-align: right;\n",
       "    }\n",
       "</style>\n",
       "<table border=\"1\" class=\"dataframe\">\n",
       "  <thead>\n",
       "    <tr style=\"text-align: right;\">\n",
       "      <th></th>\n",
       "      <th>x1</th>\n",
       "      <th>x2</th>\n",
       "      <th>x3</th>\n",
       "      <th>x4</th>\n",
       "      <th>x5</th>\n",
       "      <th>x6</th>\n",
       "      <th>x7</th>\n",
       "      <th>x8</th>\n",
       "      <th>x9</th>\n",
       "      <th>x10</th>\n",
       "      <th>...</th>\n",
       "      <th>x21</th>\n",
       "      <th>x22</th>\n",
       "      <th>x23</th>\n",
       "      <th>x24</th>\n",
       "      <th>x25</th>\n",
       "      <th>x26</th>\n",
       "      <th>x27</th>\n",
       "      <th>x28</th>\n",
       "      <th>x29</th>\n",
       "      <th>x30</th>\n",
       "    </tr>\n",
       "  </thead>\n",
       "  <tbody>\n",
       "    <tr>\n",
       "      <th>0</th>\n",
       "      <td>1.172596</td>\n",
       "      <td>1.070439</td>\n",
       "      <td>0.605724</td>\n",
       "      <td>-1.094554</td>\n",
       "      <td>0.067820</td>\n",
       "      <td>0.111409</td>\n",
       "      <td>-0.717072</td>\n",
       "      <td>-0.979947</td>\n",
       "      <td>0.892751</td>\n",
       "      <td>1.120256</td>\n",
       "      <td>...</td>\n",
       "      <td>-0.154308</td>\n",
       "      <td>0.653861</td>\n",
       "      <td>-0.365895</td>\n",
       "      <td>-1.411870</td>\n",
       "      <td>0.542396</td>\n",
       "      <td>-0.900517</td>\n",
       "      <td>0.296431</td>\n",
       "      <td>-0.424894</td>\n",
       "      <td>0.065450</td>\n",
       "      <td>-0.505669</td>\n",
       "    </tr>\n",
       "    <tr>\n",
       "      <th>1</th>\n",
       "      <td>0.635220</td>\n",
       "      <td>0.471224</td>\n",
       "      <td>0.717453</td>\n",
       "      <td>0.377608</td>\n",
       "      <td>1.752305</td>\n",
       "      <td>0.816611</td>\n",
       "      <td>-0.542636</td>\n",
       "      <td>0.733959</td>\n",
       "      <td>-0.490358</td>\n",
       "      <td>-0.487974</td>\n",
       "      <td>...</td>\n",
       "      <td>-0.438290</td>\n",
       "      <td>2.711767</td>\n",
       "      <td>1.023110</td>\n",
       "      <td>-0.575380</td>\n",
       "      <td>0.896711</td>\n",
       "      <td>-1.746515</td>\n",
       "      <td>-0.573670</td>\n",
       "      <td>-0.093136</td>\n",
       "      <td>1.256068</td>\n",
       "      <td>-0.434954</td>\n",
       "    </tr>\n",
       "    <tr>\n",
       "      <th>2</th>\n",
       "      <td>0.000276</td>\n",
       "      <td>0.186626</td>\n",
       "      <td>1.550175</td>\n",
       "      <td>-0.662633</td>\n",
       "      <td>0.793570</td>\n",
       "      <td>1.819488</td>\n",
       "      <td>-0.255563</td>\n",
       "      <td>-0.276433</td>\n",
       "      <td>0.867315</td>\n",
       "      <td>-1.114606</td>\n",
       "      <td>...</td>\n",
       "      <td>-3.001041</td>\n",
       "      <td>1.074796</td>\n",
       "      <td>-0.501165</td>\n",
       "      <td>-1.744310</td>\n",
       "      <td>0.533072</td>\n",
       "      <td>0.346213</td>\n",
       "      <td>-0.950083</td>\n",
       "      <td>1.154713</td>\n",
       "      <td>0.036099</td>\n",
       "      <td>0.673754</td>\n",
       "    </tr>\n",
       "    <tr>\n",
       "      <th>3</th>\n",
       "      <td>0.690070</td>\n",
       "      <td>0.474928</td>\n",
       "      <td>-1.176809</td>\n",
       "      <td>-0.324649</td>\n",
       "      <td>2.577428</td>\n",
       "      <td>-0.346036</td>\n",
       "      <td>1.505700</td>\n",
       "      <td>-2.994857</td>\n",
       "      <td>0.252742</td>\n",
       "      <td>1.546065</td>\n",
       "      <td>...</td>\n",
       "      <td>0.188174</td>\n",
       "      <td>1.291294</td>\n",
       "      <td>1.559987</td>\n",
       "      <td>-1.040485</td>\n",
       "      <td>-0.199104</td>\n",
       "      <td>-1.150688</td>\n",
       "      <td>0.853538</td>\n",
       "      <td>0.676860</td>\n",
       "      <td>0.140149</td>\n",
       "      <td>-1.117952</td>\n",
       "    </tr>\n",
       "    <tr>\n",
       "      <th>4</th>\n",
       "      <td>-0.724700</td>\n",
       "      <td>0.844013</td>\n",
       "      <td>-0.842763</td>\n",
       "      <td>0.071479</td>\n",
       "      <td>-0.481407</td>\n",
       "      <td>1.241022</td>\n",
       "      <td>-0.144247</td>\n",
       "      <td>0.255632</td>\n",
       "      <td>-0.287358</td>\n",
       "      <td>-0.104506</td>\n",
       "      <td>...</td>\n",
       "      <td>-1.512118</td>\n",
       "      <td>-0.787543</td>\n",
       "      <td>0.328214</td>\n",
       "      <td>-0.393113</td>\n",
       "      <td>-1.256931</td>\n",
       "      <td>0.142367</td>\n",
       "      <td>-0.748319</td>\n",
       "      <td>-0.669848</td>\n",
       "      <td>-0.285206</td>\n",
       "      <td>-0.787302</td>\n",
       "    </tr>\n",
       "  </tbody>\n",
       "</table>\n",
       "<p>5 rows × 30 columns</p>\n",
       "</div>"
      ],
      "text/plain": [
       "         x1        x2        x3        x4        x5        x6        x7  \\\n",
       "0  1.172596  1.070439  0.605724 -1.094554  0.067820  0.111409 -0.717072   \n",
       "1  0.635220  0.471224  0.717453  0.377608  1.752305  0.816611 -0.542636   \n",
       "2  0.000276  0.186626  1.550175 -0.662633  0.793570  1.819488 -0.255563   \n",
       "3  0.690070  0.474928 -1.176809 -0.324649  2.577428 -0.346036  1.505700   \n",
       "4 -0.724700  0.844013 -0.842763  0.071479 -0.481407  1.241022 -0.144247   \n",
       "\n",
       "         x8        x9       x10  ...       x21       x22       x23       x24  \\\n",
       "0 -0.979947  0.892751  1.120256  ... -0.154308  0.653861 -0.365895 -1.411870   \n",
       "1  0.733959 -0.490358 -0.487974  ... -0.438290  2.711767  1.023110 -0.575380   \n",
       "2 -0.276433  0.867315 -1.114606  ... -3.001041  1.074796 -0.501165 -1.744310   \n",
       "3 -2.994857  0.252742  1.546065  ...  0.188174  1.291294  1.559987 -1.040485   \n",
       "4  0.255632 -0.287358 -0.104506  ... -1.512118 -0.787543  0.328214 -0.393113   \n",
       "\n",
       "        x25       x26       x27       x28       x29       x30  \n",
       "0  0.542396 -0.900517  0.296431 -0.424894  0.065450 -0.505669  \n",
       "1  0.896711 -1.746515 -0.573670 -0.093136  1.256068 -0.434954  \n",
       "2  0.533072  0.346213 -0.950083  1.154713  0.036099  0.673754  \n",
       "3 -0.199104 -1.150688  0.853538  0.676860  0.140149 -1.117952  \n",
       "4 -1.256931  0.142367 -0.748319 -0.669848 -0.285206 -0.787302  \n",
       "\n",
       "[5 rows x 30 columns]"
      ]
     },
     "execution_count": 15,
     "metadata": {},
     "output_type": "execute_result"
    }
   ],
   "source": [
    "X_pre = pd.DataFrame(X_pre, columns=cols)\n",
    "X_pre.head()"
   ]
  },
  {
   "cell_type": "markdown",
   "metadata": {},
   "source": [
    "### Apply train test split"
   ]
  },
  {
   "cell_type": "code",
   "execution_count": 16,
   "metadata": {},
   "outputs": [],
   "source": [
    "from sklearn.model_selection import train_test_split\n",
    "xtrain, xtest, ytrain, ytest = train_test_split(X_pre, Y, test_size=0.2,random_state=42)"
   ]
  },
  {
   "cell_type": "code",
   "execution_count": 17,
   "metadata": {},
   "outputs": [
    {
     "data": {
      "text/plain": [
       "(6400, 30)"
      ]
     },
     "execution_count": 17,
     "metadata": {},
     "output_type": "execute_result"
    }
   ],
   "source": [
    "xtrain.shape"
   ]
  },
  {
   "cell_type": "code",
   "execution_count": 18,
   "metadata": {},
   "outputs": [
    {
     "data": {
      "text/plain": [
       "(1600, 30)"
      ]
     },
     "execution_count": 18,
     "metadata": {},
     "output_type": "execute_result"
    }
   ],
   "source": [
    "xtest.shape"
   ]
  },
  {
   "cell_type": "code",
   "execution_count": 19,
   "metadata": {},
   "outputs": [
    {
     "data": {
      "text/plain": [
       "target\n",
       "3         1625\n",
       "0         1612\n",
       "1         1587\n",
       "2         1576\n",
       "Name: count, dtype: int64"
      ]
     },
     "execution_count": 19,
     "metadata": {},
     "output_type": "execute_result"
    }
   ],
   "source": [
    "ytrain.value_counts()"
   ]
  },
  {
   "cell_type": "code",
   "execution_count": 20,
   "metadata": {},
   "outputs": [
    {
     "data": {
      "text/plain": [
       "target\n",
       "2         424\n",
       "1         417\n",
       "0         381\n",
       "3         378\n",
       "Name: count, dtype: int64"
      ]
     },
     "execution_count": 20,
     "metadata": {},
     "output_type": "execute_result"
    }
   ],
   "source": [
    "ytest.value_counts()"
   ]
  },
  {
   "cell_type": "markdown",
   "metadata": {},
   "source": [
    "### Onehot encode Y features"
   ]
  },
  {
   "cell_type": "code",
   "execution_count": 21,
   "metadata": {},
   "outputs": [],
   "source": [
    "from keras.utils import to_categorical\n",
    "ytrain_cat = to_categorical(ytrain)\n",
    "ytest_cat = to_categorical(ytest)"
   ]
  },
  {
   "cell_type": "code",
   "execution_count": 22,
   "metadata": {},
   "outputs": [
    {
     "data": {
      "text/plain": [
       "array([[0., 0., 0., 1.],\n",
       "       [0., 0., 1., 0.],\n",
       "       [1., 0., 0., 0.],\n",
       "       [0., 0., 0., 1.],\n",
       "       [0., 0., 0., 1.]], dtype=float32)"
      ]
     },
     "execution_count": 22,
     "metadata": {},
     "output_type": "execute_result"
    }
   ],
   "source": [
    "ytrain_cat[0:5]"
   ]
  },
  {
   "cell_type": "code",
   "execution_count": 23,
   "metadata": {},
   "outputs": [
    {
     "data": {
      "text/html": [
       "<div>\n",
       "<style scoped>\n",
       "    .dataframe tbody tr th:only-of-type {\n",
       "        vertical-align: middle;\n",
       "    }\n",
       "\n",
       "    .dataframe tbody tr th {\n",
       "        vertical-align: top;\n",
       "    }\n",
       "\n",
       "    .dataframe thead th {\n",
       "        text-align: right;\n",
       "    }\n",
       "</style>\n",
       "<table border=\"1\" class=\"dataframe\">\n",
       "  <thead>\n",
       "    <tr style=\"text-align: right;\">\n",
       "      <th></th>\n",
       "      <th>target</th>\n",
       "    </tr>\n",
       "  </thead>\n",
       "  <tbody>\n",
       "    <tr>\n",
       "      <th>1467</th>\n",
       "      <td>3</td>\n",
       "    </tr>\n",
       "    <tr>\n",
       "      <th>5768</th>\n",
       "      <td>2</td>\n",
       "    </tr>\n",
       "    <tr>\n",
       "      <th>5714</th>\n",
       "      <td>0</td>\n",
       "    </tr>\n",
       "    <tr>\n",
       "      <th>1578</th>\n",
       "      <td>3</td>\n",
       "    </tr>\n",
       "    <tr>\n",
       "      <th>6958</th>\n",
       "      <td>3</td>\n",
       "    </tr>\n",
       "  </tbody>\n",
       "</table>\n",
       "</div>"
      ],
      "text/plain": [
       "      target\n",
       "1467       3\n",
       "5768       2\n",
       "5714       0\n",
       "1578       3\n",
       "6958       3"
      ]
     },
     "execution_count": 23,
     "metadata": {},
     "output_type": "execute_result"
    }
   ],
   "source": [
    "ytrain.head()"
   ]
  },
  {
   "cell_type": "code",
   "execution_count": 24,
   "metadata": {},
   "outputs": [
    {
     "data": {
      "text/plain": [
       "array([[0., 0., 0., 1.],\n",
       "       [0., 1., 0., 0.],\n",
       "       [0., 1., 0., 0.],\n",
       "       [0., 1., 0., 0.],\n",
       "       [1., 0., 0., 0.]], dtype=float32)"
      ]
     },
     "execution_count": 24,
     "metadata": {},
     "output_type": "execute_result"
    }
   ],
   "source": [
    "ytest_cat[0:5]"
   ]
  },
  {
   "cell_type": "code",
   "execution_count": 25,
   "metadata": {},
   "outputs": [
    {
     "data": {
      "text/html": [
       "<div>\n",
       "<style scoped>\n",
       "    .dataframe tbody tr th:only-of-type {\n",
       "        vertical-align: middle;\n",
       "    }\n",
       "\n",
       "    .dataframe tbody tr th {\n",
       "        vertical-align: top;\n",
       "    }\n",
       "\n",
       "    .dataframe thead th {\n",
       "        text-align: right;\n",
       "    }\n",
       "</style>\n",
       "<table border=\"1\" class=\"dataframe\">\n",
       "  <thead>\n",
       "    <tr style=\"text-align: right;\">\n",
       "      <th></th>\n",
       "      <th>target</th>\n",
       "    </tr>\n",
       "  </thead>\n",
       "  <tbody>\n",
       "    <tr>\n",
       "      <th>2215</th>\n",
       "      <td>3</td>\n",
       "    </tr>\n",
       "    <tr>\n",
       "      <th>2582</th>\n",
       "      <td>1</td>\n",
       "    </tr>\n",
       "    <tr>\n",
       "      <th>1662</th>\n",
       "      <td>1</td>\n",
       "    </tr>\n",
       "    <tr>\n",
       "      <th>3027</th>\n",
       "      <td>1</td>\n",
       "    </tr>\n",
       "    <tr>\n",
       "      <th>4343</th>\n",
       "      <td>0</td>\n",
       "    </tr>\n",
       "  </tbody>\n",
       "</table>\n",
       "</div>"
      ],
      "text/plain": [
       "      target\n",
       "2215       3\n",
       "2582       1\n",
       "1662       1\n",
       "3027       1\n",
       "4343       0"
      ]
     },
     "execution_count": 25,
     "metadata": {},
     "output_type": "execute_result"
    }
   ],
   "source": [
    "ytest.head()"
   ]
  },
  {
   "cell_type": "markdown",
   "metadata": {},
   "source": [
    "### Create a neural network"
   ]
  },
  {
   "cell_type": "code",
   "execution_count": 26,
   "metadata": {},
   "outputs": [],
   "source": [
    "from keras.models import Sequential\n",
    "from keras.layers import Dense, Dropout\n",
    "from keras.callbacks import EarlyStopping "
   ]
  },
  {
   "cell_type": "code",
   "execution_count": 27,
   "metadata": {},
   "outputs": [
    {
     "data": {
      "text/plain": [
       "30"
      ]
     },
     "execution_count": 27,
     "metadata": {},
     "output_type": "execute_result"
    }
   ],
   "source": [
    "xtrain.shape[1]"
   ]
  },
  {
   "cell_type": "code",
   "execution_count": 28,
   "metadata": {},
   "outputs": [
    {
     "data": {
      "text/plain": [
       "(6400, 4)"
      ]
     },
     "execution_count": 28,
     "metadata": {},
     "output_type": "execute_result"
    }
   ],
   "source": [
    "ytrain_cat.shape"
   ]
  },
  {
   "cell_type": "code",
   "execution_count": 29,
   "metadata": {},
   "outputs": [
    {
     "name": "stdout",
     "output_type": "stream",
     "text": [
      "WARNING:tensorflow:From e:\\Deep Learning\\repository\\venv\\Lib\\site-packages\\keras\\src\\backend.py:873: The name tf.get_default_graph is deprecated. Please use tf.compat.v1.get_default_graph instead.\n",
      "\n"
     ]
    }
   ],
   "source": [
    "model = Sequential()\n",
    "\n",
    "# Hidden Layer 1 \n",
    "model.add(Dense(64, activation='relu', input_dim=xtrain.shape[1]))\n",
    "model.add(Dropout(0.3))\n",
    "\n",
    "# Hidden Layer 2 \n",
    "model.add(Dense(32, activation='relu'))\n",
    "model.add(Dropout(0.25))\n",
    "\n",
    "# Output Layer\n",
    "model.add(Dense(4, activation='softmax'))"
   ]
  },
  {
   "cell_type": "code",
   "execution_count": 30,
   "metadata": {},
   "outputs": [
    {
     "name": "stdout",
     "output_type": "stream",
     "text": [
      "Model: \"sequential\"\n",
      "_________________________________________________________________\n",
      " Layer (type)                Output Shape              Param #   \n",
      "=================================================================\n",
      " dense (Dense)               (None, 64)                1984      \n",
      "                                                                 \n",
      " dropout (Dropout)           (None, 64)                0         \n",
      "                                                                 \n",
      " dense_1 (Dense)             (None, 32)                2080      \n",
      "                                                                 \n",
      " dropout_1 (Dropout)         (None, 32)                0         \n",
      "                                                                 \n",
      " dense_2 (Dense)             (None, 4)                 132       \n",
      "                                                                 \n",
      "=================================================================\n",
      "Total params: 4196 (16.39 KB)\n",
      "Trainable params: 4196 (16.39 KB)\n",
      "Non-trainable params: 0 (0.00 Byte)\n",
      "_________________________________________________________________\n"
     ]
    }
   ],
   "source": [
    "model.summary()"
   ]
  },
  {
   "cell_type": "markdown",
   "metadata": {},
   "source": [
    "### Compile the model"
   ]
  },
  {
   "cell_type": "code",
   "execution_count": 31,
   "metadata": {},
   "outputs": [
    {
     "name": "stdout",
     "output_type": "stream",
     "text": [
      "WARNING:tensorflow:From e:\\Deep Learning\\repository\\venv\\Lib\\site-packages\\keras\\src\\optimizers\\__init__.py:309: The name tf.train.Optimizer is deprecated. Please use tf.compat.v1.train.Optimizer instead.\n",
      "\n"
     ]
    }
   ],
   "source": [
    "model.compile(optimizer='adam', loss='categorical_crossentropy', metrics=['accuracy'])"
   ]
  },
  {
   "cell_type": "markdown",
   "metadata": {},
   "source": [
    "### Early Stopping"
   ]
  },
  {
   "cell_type": "code",
   "execution_count": 32,
   "metadata": {},
   "outputs": [],
   "source": [
    "early_stop = EarlyStopping(monitor='val_loss', patience=10)"
   ]
  },
  {
   "cell_type": "code",
   "execution_count": 34,
   "metadata": {},
   "outputs": [
    {
     "name": "stdout",
     "output_type": "stream",
     "text": [
      "Epoch 1/200\n",
      "WARNING:tensorflow:From e:\\Deep Learning\\repository\\venv\\Lib\\site-packages\\keras\\src\\utils\\tf_utils.py:492: The name tf.ragged.RaggedTensorValue is deprecated. Please use tf.compat.v1.ragged.RaggedTensorValue instead.\n",
      "\n",
      "WARNING:tensorflow:From e:\\Deep Learning\\repository\\venv\\Lib\\site-packages\\keras\\src\\engine\\base_layer_utils.py:384: The name tf.executing_eagerly_outside_functions is deprecated. Please use tf.compat.v1.executing_eagerly_outside_functions instead.\n",
      "\n",
      "160/160 [==============================] - 5s 9ms/step - loss: 1.3043 - accuracy: 0.3900 - val_loss: 1.0787 - val_accuracy: 0.5586\n",
      "Epoch 2/200\n",
      "160/160 [==============================] - 1s 6ms/step - loss: 1.0256 - accuracy: 0.5561 - val_loss: 0.9022 - val_accuracy: 0.6422\n",
      "Epoch 3/200\n",
      "160/160 [==============================] - 1s 6ms/step - loss: 0.8967 - accuracy: 0.6266 - val_loss: 0.8300 - val_accuracy: 0.6578\n",
      "Epoch 4/200\n",
      "160/160 [==============================] - 1s 6ms/step - loss: 0.8171 - accuracy: 0.6574 - val_loss: 0.7703 - val_accuracy: 0.6883\n",
      "Epoch 5/200\n",
      "160/160 [==============================] - 1s 6ms/step - loss: 0.7775 - accuracy: 0.6824 - val_loss: 0.7217 - val_accuracy: 0.7195\n",
      "Epoch 6/200\n",
      "160/160 [==============================] - 1s 6ms/step - loss: 0.7221 - accuracy: 0.7092 - val_loss: 0.6820 - val_accuracy: 0.7297\n",
      "Epoch 7/200\n",
      "160/160 [==============================] - 1s 6ms/step - loss: 0.6845 - accuracy: 0.7324 - val_loss: 0.6359 - val_accuracy: 0.7641\n",
      "Epoch 8/200\n",
      "160/160 [==============================] - 1s 6ms/step - loss: 0.6478 - accuracy: 0.7422 - val_loss: 0.5978 - val_accuracy: 0.7867\n",
      "Epoch 9/200\n",
      "160/160 [==============================] - 1s 6ms/step - loss: 0.6053 - accuracy: 0.7645 - val_loss: 0.5686 - val_accuracy: 0.7992\n",
      "Epoch 10/200\n",
      "160/160 [==============================] - 1s 6ms/step - loss: 0.5699 - accuracy: 0.7820 - val_loss: 0.5446 - val_accuracy: 0.8070\n",
      "Epoch 11/200\n",
      "160/160 [==============================] - 1s 5ms/step - loss: 0.5558 - accuracy: 0.7896 - val_loss: 0.5193 - val_accuracy: 0.8203\n",
      "Epoch 12/200\n",
      "160/160 [==============================] - 1s 8ms/step - loss: 0.5341 - accuracy: 0.7877 - val_loss: 0.4976 - val_accuracy: 0.8250\n",
      "Epoch 13/200\n",
      "160/160 [==============================] - 2s 10ms/step - loss: 0.5032 - accuracy: 0.8096 - val_loss: 0.4801 - val_accuracy: 0.8375\n",
      "Epoch 14/200\n",
      "160/160 [==============================] - 2s 12ms/step - loss: 0.5063 - accuracy: 0.8074 - val_loss: 0.4626 - val_accuracy: 0.8477\n",
      "Epoch 15/200\n",
      "160/160 [==============================] - 1s 6ms/step - loss: 0.4774 - accuracy: 0.8170 - val_loss: 0.4529 - val_accuracy: 0.8414\n",
      "Epoch 16/200\n",
      "160/160 [==============================] - 1s 6ms/step - loss: 0.4582 - accuracy: 0.8287 - val_loss: 0.4399 - val_accuracy: 0.8484\n",
      "Epoch 17/200\n",
      "160/160 [==============================] - 1s 6ms/step - loss: 0.4436 - accuracy: 0.8313 - val_loss: 0.4269 - val_accuracy: 0.8523\n",
      "Epoch 18/200\n",
      "160/160 [==============================] - 1s 7ms/step - loss: 0.4471 - accuracy: 0.8320 - val_loss: 0.4212 - val_accuracy: 0.8539\n",
      "Epoch 19/200\n",
      "160/160 [==============================] - 1s 8ms/step - loss: 0.4388 - accuracy: 0.8342 - val_loss: 0.4144 - val_accuracy: 0.8594\n",
      "Epoch 20/200\n",
      "160/160 [==============================] - 1s 5ms/step - loss: 0.4284 - accuracy: 0.8373 - val_loss: 0.4115 - val_accuracy: 0.8664\n",
      "Epoch 21/200\n",
      "160/160 [==============================] - 1s 6ms/step - loss: 0.4089 - accuracy: 0.8527 - val_loss: 0.4056 - val_accuracy: 0.8695\n",
      "Epoch 22/200\n",
      "160/160 [==============================] - 1s 6ms/step - loss: 0.4169 - accuracy: 0.8430 - val_loss: 0.4047 - val_accuracy: 0.8711\n",
      "Epoch 23/200\n",
      "160/160 [==============================] - 1s 6ms/step - loss: 0.4079 - accuracy: 0.8488 - val_loss: 0.3968 - val_accuracy: 0.8680\n",
      "Epoch 24/200\n",
      "160/160 [==============================] - 1s 6ms/step - loss: 0.3886 - accuracy: 0.8521 - val_loss: 0.3891 - val_accuracy: 0.8758\n",
      "Epoch 25/200\n",
      "160/160 [==============================] - 1s 5ms/step - loss: 0.3856 - accuracy: 0.8615 - val_loss: 0.3927 - val_accuracy: 0.8789\n",
      "Epoch 26/200\n",
      "160/160 [==============================] - 1s 6ms/step - loss: 0.3892 - accuracy: 0.8584 - val_loss: 0.3840 - val_accuracy: 0.8703\n",
      "Epoch 27/200\n",
      "160/160 [==============================] - 1s 5ms/step - loss: 0.3807 - accuracy: 0.8631 - val_loss: 0.3810 - val_accuracy: 0.8727\n",
      "Epoch 28/200\n",
      "160/160 [==============================] - 1s 6ms/step - loss: 0.3700 - accuracy: 0.8645 - val_loss: 0.3745 - val_accuracy: 0.8781\n",
      "Epoch 29/200\n",
      "160/160 [==============================] - 1s 5ms/step - loss: 0.3730 - accuracy: 0.8611 - val_loss: 0.3679 - val_accuracy: 0.8852\n",
      "Epoch 30/200\n",
      "160/160 [==============================] - 1s 6ms/step - loss: 0.3792 - accuracy: 0.8635 - val_loss: 0.3699 - val_accuracy: 0.8844\n",
      "Epoch 31/200\n",
      "160/160 [==============================] - 1s 5ms/step - loss: 0.3643 - accuracy: 0.8727 - val_loss: 0.3678 - val_accuracy: 0.8867\n",
      "Epoch 32/200\n",
      "160/160 [==============================] - 1s 5ms/step - loss: 0.3555 - accuracy: 0.8752 - val_loss: 0.3658 - val_accuracy: 0.8844\n",
      "Epoch 33/200\n",
      "160/160 [==============================] - 1s 5ms/step - loss: 0.3405 - accuracy: 0.8744 - val_loss: 0.3734 - val_accuracy: 0.8844\n",
      "Epoch 34/200\n",
      "160/160 [==============================] - 1s 5ms/step - loss: 0.3565 - accuracy: 0.8695 - val_loss: 0.3667 - val_accuracy: 0.8844\n",
      "Epoch 35/200\n",
      "160/160 [==============================] - 1s 6ms/step - loss: 0.3652 - accuracy: 0.8771 - val_loss: 0.3672 - val_accuracy: 0.8852\n",
      "Epoch 36/200\n",
      "160/160 [==============================] - 1s 5ms/step - loss: 0.3518 - accuracy: 0.8777 - val_loss: 0.3550 - val_accuracy: 0.8883\n",
      "Epoch 37/200\n",
      "160/160 [==============================] - 1s 6ms/step - loss: 0.3411 - accuracy: 0.8771 - val_loss: 0.3590 - val_accuracy: 0.8867\n",
      "Epoch 38/200\n",
      "160/160 [==============================] - 1s 5ms/step - loss: 0.3332 - accuracy: 0.8791 - val_loss: 0.3537 - val_accuracy: 0.8883\n",
      "Epoch 39/200\n",
      "160/160 [==============================] - 1s 6ms/step - loss: 0.3547 - accuracy: 0.8717 - val_loss: 0.3599 - val_accuracy: 0.8883\n",
      "Epoch 40/200\n",
      "160/160 [==============================] - 1s 5ms/step - loss: 0.3399 - accuracy: 0.8799 - val_loss: 0.3589 - val_accuracy: 0.8883\n",
      "Epoch 41/200\n",
      "160/160 [==============================] - 1s 5ms/step - loss: 0.3404 - accuracy: 0.8807 - val_loss: 0.3617 - val_accuracy: 0.8852\n",
      "Epoch 42/200\n",
      "160/160 [==============================] - 1s 5ms/step - loss: 0.3226 - accuracy: 0.8840 - val_loss: 0.3588 - val_accuracy: 0.8828\n",
      "Epoch 43/200\n",
      "160/160 [==============================] - 1s 6ms/step - loss: 0.3264 - accuracy: 0.8828 - val_loss: 0.3635 - val_accuracy: 0.8852\n",
      "Epoch 44/200\n",
      "160/160 [==============================] - 1s 6ms/step - loss: 0.3224 - accuracy: 0.8842 - val_loss: 0.3605 - val_accuracy: 0.8836\n",
      "Epoch 45/200\n",
      "160/160 [==============================] - 1s 6ms/step - loss: 0.3198 - accuracy: 0.8857 - val_loss: 0.3729 - val_accuracy: 0.8828\n",
      "Epoch 46/200\n",
      "160/160 [==============================] - 1s 5ms/step - loss: 0.3238 - accuracy: 0.8836 - val_loss: 0.3654 - val_accuracy: 0.8852\n",
      "Epoch 47/200\n",
      "160/160 [==============================] - 1s 6ms/step - loss: 0.3194 - accuracy: 0.8867 - val_loss: 0.3668 - val_accuracy: 0.8906\n",
      "Epoch 48/200\n",
      "160/160 [==============================] - 1s 6ms/step - loss: 0.3176 - accuracy: 0.8883 - val_loss: 0.3562 - val_accuracy: 0.8930\n"
     ]
    }
   ],
   "source": [
    "hist = model.fit(xtrain, ytrain_cat, validation_split=0.2, epochs=200, callbacks=[early_stop])"
   ]
  },
  {
   "cell_type": "markdown",
   "metadata": {},
   "source": [
    "### Observe the learning curve"
   ]
  },
  {
   "cell_type": "code",
   "execution_count": 35,
   "metadata": {},
   "outputs": [
    {
     "data": {
      "image/png": "[encoded data removed]",
      "text/plain": [
       "<Figure size 1200x600 with 1 Axes>"
      ]
     },
     "metadata": {},
     "output_type": "display_data"
    }
   ],
   "source": [
    "import matplotlib.pyplot as plt\n",
    "plt.figure(figsize=(12, 6))\n",
    "plt.plot(hist.history['loss'], label='Train Loss')\n",
    "plt.plot(hist.history['val_loss'], label='Validation Loss')\n",
    "plt.xlabel('Epochs')\n",
    "plt.ylabel('Categorical Cross Entropy')\n",
    "plt.title('Learning Curve')\n",
    "plt.show()"
   ]
  },
  {
   "cell_type": "markdown",
   "metadata": {},
   "source": [
    "### Evaluate the model"
   ]
  },
  {
   "cell_type": "markdown",
   "metadata": {},
   "source": []
  },
  {
   "cell_type": "code",
   "execution_count": 36,
   "metadata": {},
   "outputs": [
    {
     "name": "stdout",
     "output_type": "stream",
     "text": [
      "200/200 [==============================] - 1s 4ms/step - loss: 0.2024 - accuracy: 0.9455\n"
     ]
    },
    {
     "data": {
      "text/plain": [
       "[0.20244155824184418, 0.9454687237739563]"
      ]
     },
     "execution_count": 36,
     "metadata": {},
     "output_type": "execute_result"
    }
   ],
   "source": [
    "model.evaluate(xtrain, ytrain_cat)"
   ]
  },
  {
   "cell_type": "code",
   "execution_count": 38,
   "metadata": {},
   "outputs": [
    {
     "name": "stdout",
     "output_type": "stream",
     "text": [
      "50/50 [==============================] - 0s 4ms/step - loss: 0.3337 - accuracy: 0.8944\n"
     ]
    },
    {
     "data": {
      "text/plain": [
       "[0.333748459815979, 0.8943750262260437]"
      ]
     },
     "execution_count": 38,
     "metadata": {},
     "output_type": "execute_result"
    }
   ],
   "source": [
    "model.evaluate(xtest, ytest_cat)"
   ]
  },
  {
   "cell_type": "markdown",
   "metadata": {},
   "source": [
    "### Predict values for train and test"
   ]
  },
  {
   "cell_type": "code",
   "execution_count": 39,
   "metadata": {},
   "outputs": [
    {
     "name": "stdout",
     "output_type": "stream",
     "text": [
      "200/200 [==============================] - 1s 4ms/step\n",
      "50/50 [==============================] - 0s 8ms/step\n"
     ]
    }
   ],
   "source": [
    "yprob_tr = model.predict(xtrain)\n",
    "yprob_ts = model.predict(xtest)"
   ]
  },
  {
   "cell_type": "code",
   "execution_count": 40,
   "metadata": {},
   "outputs": [
    {
     "data": {
      "text/plain": [
       "array([[8.8435452e-05, 8.6814725e-05, 6.9036579e-04, 9.9913436e-01],\n",
       "       [9.3462935e-05, 9.9642521e-01, 3.4811720e-03, 6.2587539e-08],\n",
       "       [6.0525415e-03, 9.9255145e-01, 2.7899057e-04, 1.1170431e-03],\n",
       "       [1.4665894e-01, 7.2300869e-01, 1.3221990e-05, 1.3031918e-01],\n",
       "       [8.6896074e-01, 1.3001207e-01, 4.0533489e-08, 1.0272028e-03]],\n",
       "      dtype=float32)"
      ]
     },
     "execution_count": 40,
     "metadata": {},
     "output_type": "execute_result"
    }
   ],
   "source": [
    "yprob_ts[0:5]"
   ]
  },
  {
   "cell_type": "code",
   "execution_count": 41,
   "metadata": {},
   "outputs": [
    {
     "data": {
      "text/plain": [
       "array([[9.7956583e-02, 3.4616289e-03, 1.5731304e-05, 8.9856613e-01],\n",
       "       [1.8683251e-06, 2.0424974e-05, 9.9995756e-01, 2.0088648e-05],\n",
       "       [9.8375708e-01, 6.7435019e-03, 3.3150957e-04, 9.1678174e-03],\n",
       "       [1.8137425e-02, 7.2075672e-02, 5.5935501e-10, 9.0978688e-01],\n",
       "       [4.2171743e-02, 1.2684349e-02, 4.2032439e-04, 9.4472361e-01]],\n",
       "      dtype=float32)"
      ]
     },
     "execution_count": 41,
     "metadata": {},
     "output_type": "execute_result"
    }
   ],
   "source": [
    "yprob_tr[0:5]"
   ]
  },
  {
   "cell_type": "markdown",
   "metadata": {},
   "source": [
    "### Convert probabilities to predictions"
   ]
  },
  {
   "cell_type": "code",
   "execution_count": 42,
   "metadata": {},
   "outputs": [
    {
     "data": {
      "text/plain": [
       "array([3, 2, 0, ..., 2, 0, 3], dtype=int64)"
      ]
     },
     "execution_count": 42,
     "metadata": {},
     "output_type": "execute_result"
    }
   ],
   "source": [
    "ypred_tr = np.argmax(yprob_tr, axis=-1)\n",
    "ypred_tr"
   ]
  },
  {
   "cell_type": "code",
   "execution_count": 43,
   "metadata": {},
   "outputs": [],
   "source": [
    "ypred_ts = np.argmax(yprob_ts, axis=-1)"
   ]
  },
  {
   "cell_type": "markdown",
   "metadata": {},
   "source": [
    "### Create a confusion matrix for Test"
   ]
  },
  {
   "cell_type": "code",
   "execution_count": 45,
   "metadata": {},
   "outputs": [
    {
     "data": {
      "text/plain": [
       "<sklearn.metrics._plot.confusion_matrix.ConfusionMatrixDisplay at 0x22a2ec30d10>"
      ]
     },
     "execution_count": 45,
     "metadata": {},
     "output_type": "execute_result"
    },
    {
     "data": {
      "image/png": "[encoded data removed]",
      "text/plain": [
       "<Figure size 640x480 with 2 Axes>"
      ]
     },
     "metadata": {},
     "output_type": "display_data"
    }
   ],
   "source": [
    "from sklearn.metrics import confusion_matrix, ConfusionMatrixDisplay\n",
    "cf = confusion_matrix(ytest, ypred_ts)\n",
    "cfd = ConfusionMatrixDisplay(cf)\n",
    "cfd.plot()"
   ]
  },
  {
   "cell_type": "markdown",
   "metadata": {},
   "source": [
    "### Print Classification Report"
   ]
  },
  {
   "cell_type": "code",
   "execution_count": 46,
   "metadata": {},
   "outputs": [
    {
     "name": "stdout",
     "output_type": "stream",
     "text": [
      "              precision    recall  f1-score   support\n",
      "\n",
      "           0       0.88      0.90      0.89       381\n",
      "           1       0.91      0.92      0.91       417\n",
      "           2       0.93      0.89      0.91       424\n",
      "           3       0.85      0.88      0.86       378\n",
      "\n",
      "    accuracy                           0.89      1600\n",
      "   macro avg       0.89      0.89      0.89      1600\n",
      "weighted avg       0.90      0.89      0.89      1600\n",
      "\n"
     ]
    }
   ],
   "source": [
    "from sklearn.metrics import classification_report\n",
    "print(classification_report(ytest, ypred_ts))"
   ]
  },
  {
   "cell_type": "markdown",
   "metadata": {},
   "source": [
    "### Save the model for future use"
   ]
  },
  {
   "cell_type": "code",
   "execution_count": 47,
   "metadata": {},
   "outputs": [],
   "source": [
    "model.save('Multiclassification.keras')"
   ]
  },
  {
   "cell_type": "markdown",
   "metadata": {},
   "source": [
    "### Loading The model"
   ]
  },
  {
   "cell_type": "code",
   "execution_count": 48,
   "metadata": {},
   "outputs": [],
   "source": [
    "from keras.models import load_model\n",
    "nn = load_model('Multiclassification.keras')"
   ]
  },
  {
   "cell_type": "code",
   "execution_count": 49,
   "metadata": {},
   "outputs": [
    {
     "name": "stdout",
     "output_type": "stream",
     "text": [
      "Model: \"sequential\"\n",
      "_________________________________________________________________\n",
      " Layer (type)                Output Shape              Param #   \n",
      "=================================================================\n",
      " dense (Dense)               (None, 64)                1984      \n",
      "                                                                 \n",
      " dropout (Dropout)           (None, 64)                0         \n",
      "                                                                 \n",
      " dense_1 (Dense)             (None, 32)                2080      \n",
      "                                                                 \n",
      " dropout_1 (Dropout)         (None, 32)                0         \n",
      "                                                                 \n",
      " dense_2 (Dense)             (None, 4)                 132       \n",
      "                                                                 \n",
      "=================================================================\n",
      "Total params: 4196 (16.39 KB)\n",
      "Trainable params: 4196 (16.39 KB)\n",
      "Non-trainable params: 0 (0.00 Byte)\n",
      "_________________________________________________________________\n"
     ]
    }
   ],
   "source": [
    "nn.summary()"
   ]
  },
  {
   "cell_type": "code",
   "execution_count": null,
   "metadata": {},
   "outputs": [],
   "source": []
  }
 ],
 "metadata": {
  "kernelspec": {
   "display_name": "venv",
   "language": "python",
   "name": "python3"
  },
  "language_info": {
   "codemirror_mode": {
    "name": "ipython",
    "version": 3
   },
   "file_extension": ".py",
   "mimetype": "text/x-python",
   "name": "python",
   "nbconvert_exporter": "python",
   "pygments_lexer": "ipython3",
   "version": "3.11.3"
  }
 },
 "nbformat": 4,
 "nbformat_minor": 2
}
